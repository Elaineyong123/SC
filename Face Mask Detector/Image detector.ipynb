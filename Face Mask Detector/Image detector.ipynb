{
 "cells": [
  {
   "cell_type": "code",
   "execution_count": 1,
   "id": "198056b0",
   "metadata": {},
   "outputs": [
    {
     "name": "stdout",
     "output_type": "stream",
     "text": [
      "Loading face detector model...\n",
      "Loading face mask detector model...\n",
      "Computing face detections...\n"
     ]
    },
    {
     "data": {
      "text/plain": [
       "-1"
      ]
     },
     "execution_count": 1,
     "metadata": {},
     "output_type": "execute_result"
    }
   ],
   "source": [
    "# Import necessary packages\n",
    "# load our mask net model and preprocessing the input image\n",
    "from tensorflow.keras.applications.mobilenet_v2 import preprocess_input\n",
    "from tensorflow.keras.preprocessing.image import img_to_array\n",
    "from tensorflow.keras.models import load_model\n",
    "\n",
    "import numpy as np\n",
    "import argparse\n",
    "# display and manipulate image\n",
    "import cv2\n",
    "\n",
    "# Loading face detector model(from disk) for ROI(Region of Interest) identification\n",
    "print(\"Loading face detector model...\")\n",
    "\n",
    "# load serialized face detector model from disk\n",
    "prototxtPath = r\"face_detector\\deploy.prototxt\"\n",
    "weightsPath = r\"face_detector\\res10_300x300_ssd_iter_140000.caffemodel\"\n",
    "net = cv2.dnn.readNet(prototxtPath, weightsPath)\n",
    "\n",
    "# Loading our trained model for classification\n",
    "print(\"Loading face mask detector model...\")\n",
    "model = load_model(\"mask_detector.model\")\n",
    "\n",
    "# preprocessing the image\n",
    "# read the image\n",
    "image = cv2.imread(\"with mask.png\")\n",
    "# make a copy of the original image\n",
    "orig = image.copy()\n",
    "# frame dimensions -> grab image spatial dimensions\n",
    "(h, w) = image.shape[:2]\n",
    "# construct a blob that can be passed through the pre-trained image\n",
    "blob = cv2.dnn.blobFromImage(image, 1.0, (300,300), (104.0, 177.0, 213.0))  # resizing to 300x300 pixels\n",
    "\n",
    "print(\"Computing face detections...\")\n",
    "# set the input to the pre-trained deep learning network and obtain the output predicted probabilities\n",
    "net.setInput(blob)\n",
    "# perform face detection to localize where are the faces in the image\n",
    "detections = net.forward()\n",
    "\n",
    "# loop over the detections\n",
    "for i in range(0, detections.shape[2]):\n",
    "    # extract the confidence associated with the detections\n",
    "    confidence = detections[0, 0, i, 2]\n",
    "    # carry forward only if the confidence in face detection is greater than our threshold value\n",
    "    if confidence > 0.5:\n",
    "        # computing x,y coordinate for bounding box\n",
    "        box = detections[0, 0, i, 3:7] * np.array([w, h, w, h])\n",
    "        (startX, startY, endX, endY) = box.astype(\"int\")\n",
    "        # ensure bounding box lies within dimensions of the frame\n",
    "        (startX, startY) = (max(0, startX), max(0, startY))\n",
    "        (endX, endY) = (min(w-1, endX), min(h-1, endY))\n",
    "        # extracting face ROI via slicing\n",
    "        face = image[startY:endY, startX:endX]\n",
    "        # convert it from BGR to RGB channel ordering\n",
    "        face = cv2.cvtColor(face, cv2.COLOR_BGR2RGB)\n",
    "        face = cv2.resize(face, (224, 224))\n",
    "        face = img_to_array(face)\n",
    "        face = preprocess_input(face)\n",
    "        face = np.expand_dims(face, axis=0)\n",
    "        # passing the face through our model to predict whether a mask is present or not\n",
    "        (mask, withoutMask) = model.predict(face)[0]\n",
    "\n",
    "        # determine the label and the colour of the bounding box and text\n",
    "        label = \"Mask\" if mask > withoutMask else \"No Mask\"\n",
    "        color = (0, 255, 0) if label == \"Mask\" else (0, 0, 255)  # green for with_mask, red for without_mask\n",
    "        # include probability in the label\n",
    "        label = \"{}: {:.2f}%\".format(label, max(mask, withoutMask)*100)\n",
    "\n",
    "        # 1st parameter is img, 2nd is text, 3rd is bottom left (where the text starts), 4th is font type,\n",
    "        # 5th is font size, 6th is colour, 7th is thickness of text\n",
    "        cv2.putText(image, label, (startX, startY-10), cv2.FONT_HERSHEY_SIMPLEX, 0.45, color, 2)\n",
    "        # 1st parameter is img, 2nd is top-left corner, 3rd is bottom right, 4th is colour, 5th is thickness\n",
    "        cv2.rectangle(image, (startX, startY), (endX, endY), color, 2)\n",
    "\n",
    "cv2.imshow(\"Output\", image)\n",
    "cv2.waitKey(0)"
   ]
  },
  {
   "cell_type": "code",
   "execution_count": null,
   "id": "860fc23b",
   "metadata": {},
   "outputs": [],
   "source": []
  }
 ],
 "metadata": {
  "kernelspec": {
   "display_name": "Python 3",
   "language": "python",
   "name": "python3"
  },
  "language_info": {
   "codemirror_mode": {
    "name": "ipython",
    "version": 3
   },
   "file_extension": ".py",
   "mimetype": "text/x-python",
   "name": "python",
   "nbconvert_exporter": "python",
   "pygments_lexer": "ipython3",
   "version": "3.8.8"
  }
 },
 "nbformat": 4,
 "nbformat_minor": 5
}
